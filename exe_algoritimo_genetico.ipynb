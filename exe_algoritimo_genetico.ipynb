{
 "cells": [
  {
   "cell_type": "code",
   "execution_count": 1,
   "metadata": {},
   "outputs": [
    {
     "name": "stdout",
     "output_type": "stream",
     "text": [
      "Solução encontrada na geração 10: HELLO\n"
     ]
    }
   ],
   "source": [
    "import random\n",
    "\n",
    "# Parâmetros do algoritmo genético\n",
    "TAMANHO_POPULACAO = 100\n",
    "TAXA_MUTACAO = 0.01\n",
    "NUMERO_GERACOES = 1000\n",
    "ALVO = \"HELLO\"\n",
    "TAMANHO_CROMOSSOMO = len(ALVO)\n",
    "CARACTERES_POSSIVEIS = \"ABCDEFGHIJKLMNOPQRSTUVWXYZ \"\n",
    "\n",
    "# Função para gerar um indivíduo aleatório\n",
    "def gerar_individuo():\n",
    "    return ''.join(random.choice(CARACTERES_POSSIVEIS) for _ in range(TAMANHO_CROMOSSOMO))\n",
    "\n",
    "# Função para calcular a aptidão de um indivíduo\n",
    "def calcular_aptidao(individuo):\n",
    "    return sum(1 for esperado, real in zip(ALVO, individuo) if esperado == real)\n",
    "\n",
    "# Função para selecionar um indivíduo com base na roleta\n",
    "def selecionar_pais(populacao):\n",
    "    aptidoes = [calcular_aptidao(individuo) for individuo in populacao]\n",
    "    total_aptidao = sum(aptidoes)\n",
    "    selecao_prob = [aptidao / total_aptidao for aptidao in aptidoes]\n",
    "    return random.choices(populacao, selecao_prob, k=2)\n",
    "\n",
    "# Função para cruzamento\n",
    "def cruzar(pai1, pai2):\n",
    "    ponto_cruzamento = random.randint(1, TAMANHO_CROMOSSOMO - 1)\n",
    "    filho1 = pai1[:ponto_cruzamento] + pai2[ponto_cruzamento:]\n",
    "    filho2 = pai2[:ponto_cruzamento] + pai1[ponto_cruzamento:]\n",
    "    return filho1, filho2\n",
    "\n",
    "# Função para mutação\n",
    "def mutar(individuo):\n",
    "    if random.random() < TAXA_MUTACAO:\n",
    "        pos = random.randint(0, TAMANHO_CROMOSSOMO - 1)\n",
    "        novo_caractere = random.choice(CARACTERES_POSSIVEIS)\n",
    "        individuo = individuo[:pos] + novo_caractere + individuo[pos+1:]\n",
    "    return individuo\n",
    "\n",
    "# Função principal do algoritmo genético\n",
    "def algoritmo_genetico():\n",
    "    # Inicialização da população\n",
    "    populacao = [gerar_individuo() for _ in range(TAMANHO_POPULACAO)]\n",
    "    \n",
    "    for geracao in range(NUMERO_GERACOES):\n",
    "        # Avaliação da população\n",
    "        populacao = sorted(populacao, key=calcular_aptidao, reverse=True)\n",
    "        \n",
    "        # Verifica se a solução foi encontrada\n",
    "        if calcular_aptidao(populacao[0]) == TAMANHO_CROMOSSOMO:\n",
    "            print(f\"Solução encontrada na geração {geracao}: {populacao[0]}\")\n",
    "            break\n",
    "        \n",
    "        # Seleção e reprodução\n",
    "        nova_populacao = []\n",
    "        while len(nova_populacao) < TAMANHO_POPULACAO:\n",
    "            pai1, pai2 = selecionar_pais(populacao)\n",
    "            filho1, filho2 = cruzar(pai1, pai2)\n",
    "            nova_populacao.append(mutar(filho1))\n",
    "            nova_populacao.append(mutar(filho2))\n",
    "        \n",
    "        populacao = nova_populacao[:TAMANHO_POPULACAO]\n",
    "    \n",
    "    else:\n",
    "        print(f\"Solução não encontrada após {NUMERO_GERACOES} gerações. Melhor solução: {populacao[0]}\")\n",
    "\n",
    "# Executa o algoritmo genético\n",
    "algoritmo_genetico()\n"
   ]
  }
 ],
 "metadata": {
  "kernelspec": {
   "display_name": "Python 3",
   "language": "python",
   "name": "python3"
  },
  "language_info": {
   "codemirror_mode": {
    "name": "ipython",
    "version": 3
   },
   "file_extension": ".py",
   "mimetype": "text/x-python",
   "name": "python",
   "nbconvert_exporter": "python",
   "pygments_lexer": "ipython3",
   "version": "3.12.1"
  }
 },
 "nbformat": 4,
 "nbformat_minor": 2
}
